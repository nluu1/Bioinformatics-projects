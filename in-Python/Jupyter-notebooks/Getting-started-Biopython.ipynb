{
 "cells": [
  {
   "cell_type": "markdown",
   "id": "536904bc",
   "metadata": {},
   "source": [
    "Walkthrough on Kaggle: [Getting Started with Biopython](https://www.kaggle.com/code/mylesoneill/getting-started-with-biopython/notebook)\n",
    "\n",
    "Import numpy, pandas, and biopython:"
   ]
  },
  {
   "cell_type": "code",
   "execution_count": 4,
   "id": "fff77f5d",
   "metadata": {},
   "outputs": [
    {
     "name": "stdout",
     "output_type": "stream",
     "text": [
      "Biopython v1.78\n"
     ]
    }
   ],
   "source": [
    "import numpy as np # linear algebra\n",
    "import pandas as pd # data processing, CSV file I/O (e.g. pd.read_csv)\n",
    "import Bio\n",
    "print(\"Biopython v\" + Bio.__version__)"
   ]
  },
  {
   "cell_type": "markdown",
   "id": "4797eeb2",
   "metadata": {},
   "source": [
    "# Working with Sequences"
   ]
  },
  {
   "cell_type": "code",
   "execution_count": 5,
   "id": "3e1c2ccd",
   "metadata": {},
   "outputs": [
    {
     "name": "stdout",
     "output_type": "stream",
     "text": [
      "AGTACACTGGT\n"
     ]
    }
   ],
   "source": [
    "from Bio.Seq import Seq\n",
    "my_seq = Seq('AGTACACTGGT')\n",
    "print(my_seq)"
   ]
  },
  {
   "cell_type": "code",
   "execution_count": 6,
   "id": "8870a237",
   "metadata": {},
   "outputs": [
    {
     "name": "stdout",
     "output_type": "stream",
     "text": [
      "AGTACACTGGT - Sequence\n",
      "TCATGTGACCA - Complement\n",
      "ACCAGTGTACT - Reverse Complement\n"
     ]
    }
   ],
   "source": [
    "print(my_seq + \" - Sequence\")\n",
    "print(my_seq.complement() + \" - Complement\")\n",
    "print(my_seq.reverse_complement() + \" - Reverse Complement\")"
   ]
  },
  {
   "cell_type": "code",
   "execution_count": 11,
   "id": "070479e4",
   "metadata": {},
   "outputs": [],
   "source": [
    "#my_seq.alphabet \n",
    "\n",
    "#Error: 'Seq' object has no attribute 'alphabet'"
   ]
  },
  {
   "cell_type": "markdown",
   "id": "62d9fe10",
   "metadata": {},
   "source": [
    "The next most important class is the SeqRecord or Sequence Record. This holds a sequence (as a Seq object) with additional annotation including an identifier, name and description. The Bio.SeqIO module for reading and writing sequence file formats works with SeqRecord objects.\n",
    "\n",
    "#  Parsing sequence file formats\n",
    "\n",
    "A large part of much bioinformatics work involves dealing with the many types of file formats designed to hold biological data. These files are loaded with interesting biological data, and a special challenge is parsing these files into a format so that you can manipulate them with some kind of programming language. However the task of parsing these files can be frustrated by the fact that the formats can change quite regularly, and that formats may contain small subtleties which can break even the most well designed parsers.\n",
    "\n",
    "Grab the first 6 sequences in the genomic data set:"
   ]
  },
  {
   "cell_type": "code",
   "execution_count": 1,
   "id": "9b59a8c6",
   "metadata": {},
   "outputs": [],
   "source": [
    "from Bio import SeqIO\n",
    "count = 0\n",
    "sequences = [] # Here we are setting up a blank array to save our sequences for the next step\n",
    "\n",
    "#Error: Adjust file folder\n",
    "# for seq_record in SeqIO.parse(\"../input/genome.fa\", \"fasta\"):\n",
    "#     if (count < 6):\n",
    "#         sequences.append(seq_record)\n",
    "#         print(\"Id: \" + seq_record.id + \" \\t \" + \"Length: \" + str(\"{:,d}\".format(len(seq_record))) )\n",
    "#         print(repr(seq_record.seq) + \"\\n\")\n",
    "#         count = count + 1"
   ]
  },
  {
   "cell_type": "code",
   "execution_count": null,
   "id": "392e90ec",
   "metadata": {},
   "outputs": [],
   "source": []
  }
 ],
 "metadata": {
  "kernelspec": {
   "display_name": "Python 3 (ipykernel)",
   "language": "python",
   "name": "python3"
  },
  "language_info": {
   "codemirror_mode": {
    "name": "ipython",
    "version": 3
   },
   "file_extension": ".py",
   "mimetype": "text/x-python",
   "name": "python",
   "nbconvert_exporter": "python",
   "pygments_lexer": "ipython3",
   "version": "3.9.7"
  }
 },
 "nbformat": 4,
 "nbformat_minor": 5
}
