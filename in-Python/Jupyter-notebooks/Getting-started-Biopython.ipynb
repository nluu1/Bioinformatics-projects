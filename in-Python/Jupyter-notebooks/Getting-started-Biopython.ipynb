{
 "cells": [
  {
   "cell_type": "markdown",
   "id": "e4553c71",
   "metadata": {},
   "source": [
    "Walkthrough on Kaggle: [Getting Started with Biopython](https://www.kaggle.com/code/mylesoneill/getting-started-with-biopython/notebook)"
   ]
  },
  {
   "cell_type": "markdown",
   "id": "e0275d48",
   "metadata": {},
   "source": [
    "Import numpy, pandas, and biopython:"
   ]
  },
  {
   "cell_type": "code",
   "execution_count": 8,
   "id": "2f7fe6e9",
   "metadata": {},
   "outputs": [
    {
     "name": "stdout",
     "output_type": "stream",
     "text": [
      "Current working directory: C:\\Users\\Nhi\\Documents\\Python-projects\\Jupyter-notebooks\n",
      "os.getcwd() returns an object of type: <class 'str'>\n"
     ]
    }
   ],
   "source": [
    "# Import the os module\n",
    "import os\n",
    "\n",
    "# Get the current working directory\n",
    "cwd = os.getcwd()\n",
    "\n",
    "# Print the current working directory\n",
    "print(\"Current working directory: {0}\".format(cwd))\n",
    "\n",
    "# Print the type of the returned object\n",
    "print(\"os.getcwd() returns an object of type: {0}\".format(type(cwd)))"
   ]
  },
  {
   "cell_type": "code",
   "execution_count": 1,
   "id": "6c356fc6",
   "metadata": {},
   "outputs": [
    {
     "name": "stdout",
     "output_type": "stream",
     "text": [
      "Biopython v1.78\n"
     ]
    }
   ],
   "source": [
    "import numpy as np # linear algebra\n",
    "import pandas as pd # data processing, CSV file I/O (e.g. pd.read_csv)\n",
    "import Bio\n",
    "print(\"Biopython v\" + Bio.__version__)"
   ]
  },
  {
   "cell_type": "markdown",
   "id": "888e2302",
   "metadata": {},
   "source": [
    "# Working with Sequences"
   ]
  },
  {
   "cell_type": "code",
   "execution_count": 7,
   "id": "34cb6451",
   "metadata": {},
   "outputs": [
    {
     "name": "stdout",
     "output_type": "stream",
     "text": [
      "AGTACACTGGT\n"
     ]
    }
   ],
   "source": [
    "from Bio.Seq import Seq\n",
    "my_seq = Seq('AGTACACTGGT')\n",
    "print(my_seq)"
   ]
  },
  {
   "cell_type": "code",
   "execution_count": null,
   "id": "4d0b963f",
   "metadata": {},
   "outputs": [],
   "source": [
    "#my_seq.alphabet \n",
    "#Error: 'Seq' object has no attribute 'alphabet'"
   ]
  },
  {
   "cell_type": "code",
   "execution_count": 3,
   "id": "160c4e62",
   "metadata": {},
   "outputs": [
    {
     "name": "stdout",
     "output_type": "stream",
     "text": [
      "AGTACACTGGT - Sequence\n",
      "TCATGTGACCA - Complement\n",
      "ACCAGTGTACT - Reverse Complement\n"
     ]
    }
   ],
   "source": [
    "print(my_seq + \" - Sequence\")\n",
    "print(my_seq.complement() + \" - Complement\")\n",
    "print(my_seq.reverse_complement() + \" - Reverse Complement\")"
   ]
  },
  {
   "cell_type": "markdown",
   "id": "51ab2556",
   "metadata": {},
   "source": [
    "# Parsing sequence file formats"
   ]
  },
  {
   "cell_type": "markdown",
   "id": "ceb9c4a2",
   "metadata": {},
   "source": [
    "Grab the first 6 sequences in the genomic data set:"
   ]
  },
  {
   "cell_type": "code",
   "execution_count": 5,
   "id": "0e3203e7",
   "metadata": {},
   "outputs": [],
   "source": [
    "from Bio import SeqIO\n",
    "count = 0\n",
    "sequences = []"
   ]
  },
  {
   "cell_type": "code",
   "execution_count": 14,
   "id": "ca09d72e",
   "metadata": {},
   "outputs": [
    {
     "name": "stdout",
     "output_type": "stream",
     "text": [
      "Id: chr2L \t Length: 23,513,712\n",
      "Seq('Cgacaatgcacgacagaggaagcagaacagatatttagattgcctctcattttc...gag')\n",
      "\n",
      "Id: chr2R \t Length: 25,286,936\n",
      "Seq('CTCAAGATAccttctacagattatttaaagctagtgcacaacaacaataaattg...ttc')\n",
      "\n",
      "Id: chr3L \t Length: 28,110,227\n",
      "Seq('TAGGGAGAAATATGATCgcgtatgcgagagtagtgccaacatattgtgctcttt...tat')\n",
      "\n",
      "Id: chr3R \t Length: 32,079,331\n",
      "Seq('acgggaccgagtatagtaccagtacgcgaccagtacgggagcagtacggaacca...ttc')\n",
      "\n",
      "Id: chr4 \t Length: 1,348,131\n",
      "Seq('ttattatattattatattattatattattatattattatattattatattatta...GAA')\n",
      "\n",
      "Id: chrM \t Length: 19,524\n",
      "Seq('AATGAATTGCCTGATAAAAAGGATTACCTTGATAGGGTAAATCATGCAGTTTTC...ATT')\n",
      "\n"
     ]
    }
   ],
   "source": [
    "for seq_record in SeqIO.parse(\"../Jupyter-notebooks/data/genome.fa\", \"fasta\"):\n",
    "    if (count < 6):\n",
    "        sequences.append(seq_record)\n",
    "        print(\"Id: \" + seq_record.id + \" \\t \" + \"Length: \" + str(\"{:,d}\".format(len(seq_record))) )\n",
    "        print(repr(seq_record.seq) + \"\\n\")\n",
    "        count = count + 1"
   ]
  },
  {
   "cell_type": "code",
   "execution_count": 15,
   "id": "1e0d2c7d",
   "metadata": {},
   "outputs": [],
   "source": [
    "# Lets set these sequences up for easy access later\n",
    "\n",
    "chr2L = sequences[0].seq\n",
    "chr2R = sequences[1].seq\n",
    "chr3L = sequences[2].seq\n",
    "chr3R = sequences[3].seq\n",
    "chr4 = sequences[4].seq\n",
    "chrM = sequences[5].seq"
   ]
  },
  {
   "cell_type": "markdown",
   "id": "97b7e35f",
   "metadata": {},
   "source": [
    "# Sequences act like strings"
   ]
  },
  {
   "cell_type": "code",
   "execution_count": 16,
   "id": "75f27680",
   "metadata": {},
   "outputs": [
    {
     "name": "stdout",
     "output_type": "stream",
     "text": [
      "23513712\n"
     ]
    }
   ],
   "source": [
    "print(len(chr2L))"
   ]
  },
  {
   "cell_type": "code",
   "execution_count": 17,
   "id": "a23797d9",
   "metadata": {},
   "outputs": [
    {
     "name": "stdout",
     "output_type": "stream",
     "text": [
      "First Letter: C\n",
      "Third Letter: a\n",
      "Last Letter: g\n"
     ]
    }
   ],
   "source": [
    "# access elements of the sequence in the same way as for strings:\n",
    "print(\"First Letter: \" + chr2L[0])\n",
    "print(\"Third Letter: \" + chr2L[2])\n",
    "print(\"Last Letter: \" + chr2L[-1])"
   ]
  },
  {
   "cell_type": "markdown",
   "id": "d54ee568",
   "metadata": {},
   "source": [
    "The Seq object has a .count() method, just like a string. Note that this means that like a Python string, this gives a non-overlapping count:"
   ]
  },
  {
   "cell_type": "code",
   "execution_count": 18,
   "id": "ca4d18fc",
   "metadata": {},
   "outputs": [
    {
     "name": "stdout",
     "output_type": "stream",
     "text": [
      "2\n",
      "2\n"
     ]
    }
   ],
   "source": [
    "print(\"AAAA\".count(\"AA\"))\n",
    "print(Seq(\"AAAA\").count(\"AA\"))"
   ]
  },
  {
   "cell_type": "code",
   "execution_count": 19,
   "id": "8cac39f7",
   "metadata": {},
   "outputs": [
    {
     "name": "stdout",
     "output_type": "stream",
     "text": [
      "Length:\t23513712\n",
      "G Count:\t4428980\n"
     ]
    }
   ],
   "source": [
    "# Lets count the number of G shown in the sequence\n",
    "print(\"Length:\\t\" + str(len(chr2L)))\n",
    "print(\"G Count:\\t\" + str(chr2L.count(\"G\")))"
   ]
  },
  {
   "cell_type": "markdown",
   "id": "17c3219b",
   "metadata": {},
   "source": [
    "The GC Content of a DNA sequence is important and relates to how stable the molecule will be."
   ]
  },
  {
   "cell_type": "code",
   "execution_count": 21,
   "id": "c485aa28",
   "metadata": {},
   "outputs": [
    {
     "name": "stdout",
     "output_type": "stream",
     "text": [
      "GC%:\t\t37.62453159245975\n"
     ]
    }
   ],
   "source": [
    "# Calculate GC content\n",
    "print(\"GC%:\\t\\t\" + str(100 * float((chr2L.count(\"G\") + chr2L.count(\"C\")) / len(chr2L) ) ))"
   ]
  },
  {
   "cell_type": "markdown",
   "id": "2b00a447",
   "metadata": {},
   "source": [
    "While you could use the above snippet of code to calculate a GC%, note that the Bio.SeqUtils module has several GC functions already built."
   ]
  },
  {
   "cell_type": "code",
   "execution_count": 22,
   "id": "45c61d82",
   "metadata": {},
   "outputs": [
    {
     "name": "stdout",
     "output_type": "stream",
     "text": [
      "GC% Package:\t41.781578340331805\n"
     ]
    }
   ],
   "source": [
    "from Bio.SeqUtils import GC\n",
    "print(\"GC% Package:\\t\" + str(GC(chr2L)))"
   ]
  },
  {
   "cell_type": "markdown",
   "id": "69f6cfcc",
   "metadata": {},
   "source": [
    "We only used capital G/C characters, but in the actual sequence there are lowercase g/c characters. In addition, there are also S and s characters which represent an ambiguous G OR C character - but which are being counted for GC content by the package. Lets add those and check again:"
   ]
  },
  {
   "cell_type": "code",
   "execution_count": 23,
   "id": "2b8928d6",
   "metadata": {},
   "outputs": [
    {
     "name": "stdout",
     "output_type": "stream",
     "text": [
      "GgCcSs%:\t41.781578340331805\n",
      "GC% Package:\t41.781578340331805\n"
     ]
    }
   ],
   "source": [
    "print(\"GgCcSs%:\\t\" + str(100 * float((chr2L.count(\"G\") + chr2L.count(\"g\") + chr2L.count(\"C\") + chr2L.count(\"c\") + chr2L.count(\"S\") + chr2L.count(\"s\") ) / len(chr2L) ) ))\n",
    "print(\"GC% Package:\\t\" + str(GC(chr2L)))"
   ]
  }
 ],
 "metadata": {
  "kernelspec": {
   "display_name": "Python 3 (ipykernel)",
   "language": "python",
   "name": "python3"
  },
  "language_info": {
   "codemirror_mode": {
    "name": "ipython",
    "version": 3
   },
   "file_extension": ".py",
   "mimetype": "text/x-python",
   "name": "python",
   "nbconvert_exporter": "python",
   "pygments_lexer": "ipython3",
   "version": "3.9.7"
  }
 },
 "nbformat": 4,
 "nbformat_minor": 5
}
