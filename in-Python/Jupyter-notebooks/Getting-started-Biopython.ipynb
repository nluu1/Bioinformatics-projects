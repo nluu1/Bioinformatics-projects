{
 "cells": [
  {
   "cell_type": "markdown",
   "id": "e4553c71",
   "metadata": {},
   "source": [
    "Walkthrough on Kaggle: [Getting Started with Biopython](https://www.kaggle.com/code/mylesoneill/getting-started-with-biopython/notebook)"
   ]
  },
  {
   "cell_type": "markdown",
   "id": "e0275d48",
   "metadata": {},
   "source": [
    "Import numpy, pandas, and biopython:"
   ]
  },
  {
   "cell_type": "code",
   "execution_count": 6,
   "id": "6c356fc6",
   "metadata": {},
   "outputs": [
    {
     "name": "stdout",
     "output_type": "stream",
     "text": [
      "Biopython v1.78\n"
     ]
    }
   ],
   "source": [
    "import numpy as np # linear algebra\n",
    "import pandas as pd # data processing, CSV file I/O (e.g. pd.read_csv)\n",
    "import Bio\n",
    "print(\"Biopython v\" + Bio.__version__)"
   ]
  },
  {
   "cell_type": "markdown",
   "id": "888e2302",
   "metadata": {},
   "source": [
    "# Working with Sequences"
   ]
  },
  {
   "cell_type": "code",
   "execution_count": 14,
   "id": "34cb6451",
   "metadata": {},
   "outputs": [
    {
     "name": "stdout",
     "output_type": "stream",
     "text": [
      "AGTACACTGGT\n"
     ]
    }
   ],
   "source": [
    "from Bio.Seq import Seq\n",
    "my_seq = Seq('AGTACACTGGT')\n",
    "print(my_seq)\n"
   ]
  },
  {
   "cell_type": "code",
   "execution_count": 15,
   "id": "160c4e62",
   "metadata": {},
   "outputs": [
    {
     "name": "stdout",
     "output_type": "stream",
     "text": [
      "AGTACACTGGT - Sequence\n",
      "TCATGTGACCA - Complement\n",
      "ACCAGTGTACT - Reverse Complement\n"
     ]
    }
   ],
   "source": [
    "print(my_seq + \" - Sequence\")\n",
    "print(my_seq.complement() + \" - Complement\")\n",
    "print(my_seq.reverse_complement() + \" - Reverse Complement\")"
   ]
  },
  {
   "cell_type": "code",
   "execution_count": null,
   "id": "9e4f3d73",
   "metadata": {},
   "outputs": [],
   "source": []
  }
 ],
 "metadata": {
  "kernelspec": {
   "display_name": "Python 3 (ipykernel)",
   "language": "python",
   "name": "python3"
  },
  "language_info": {
   "codemirror_mode": {
    "name": "ipython",
    "version": 3
   },
   "file_extension": ".py",
   "mimetype": "text/x-python",
   "name": "python",
   "nbconvert_exporter": "python",
   "pygments_lexer": "ipython3",
   "version": "3.9.7"
  }
 },
 "nbformat": 4,
 "nbformat_minor": 5
}
